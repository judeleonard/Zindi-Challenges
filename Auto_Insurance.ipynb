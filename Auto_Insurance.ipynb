{
 "cells": [
  {
   "cell_type": "markdown",
   "metadata": {},
   "source": [
    "## Project Background\n",
    "\n",
    "When providing insurance, there are very few points of contact between customers and the insurance provider.Because of this, AutoInland(an insurance company in West Africa with a focus in Auto Insurance) needs to make every point of contact count; one of the most valuable of these is filing and settlement of claims.\n",
    "\n",
    "AutoInland believes that to achieve better service level standards, they need to anticipate future demands in terms of claims request volume. This will allow them to better manage their resources while keeping the customer experience positive and the levels of satisfaction high.\n",
    "\n",
    "#### Objective\n",
    "Thr objective of this hackathon is to develop a predictive model that determines if a customer will submit a vehicle insurance claim in the next three months. This solution will help streamline financial planning at AutoInland and allow them ti=o beter serve their customers by understanding which customers are likely to submit a claim."
   ]
  },
  {
   "cell_type": "code",
   "execution_count": 352,
   "metadata": {},
   "outputs": [],
   "source": [
    "import pandas as pd\n",
    "import numpy as np\n",
    "\n",
    "# import visualization libraries\n",
    "import matplotlib.pyplot as plt\n",
    "import matplotlib as pyplot\n",
    "import seaborn as sns\n",
    "sns.set_style('darkgrid')\n",
    "%matplotlib inline"
   ]
  },
  {
   "cell_type": "code",
   "execution_count": 353,
   "metadata": {},
   "outputs": [],
   "source": [
    "# reading data\n",
    "train_df = pd.read_csv('./Train.csv')\n",
    "test_df = pd.read_csv('./Test.csv')\n",
    "submission_df = pd.read_csv('./SampleSubmission.csv')"
   ]
  },
  {
   "cell_type": "code",
   "execution_count": 354,
   "metadata": {},
   "outputs": [
    {
     "name": "stdout",
     "output_type": "stream",
     "text": [
      "Train data has the shape(12079, 14)\n",
      "-----------------------------------\n",
      "Test data has the shape(1202, 13)\n"
     ]
    }
   ],
   "source": [
    "print('Train data has the shape' + str(train_df.shape))\n",
    "print('-----------------------------------')\n",
    "print('Test data has the shape' + str(test_df.shape))"
   ]
  },
  {
   "cell_type": "code",
   "execution_count": 355,
   "metadata": {},
   "outputs": [
    {
     "data": {
      "text/html": [
       "<div>\n",
       "<style scoped>\n",
       "    .dataframe tbody tr th:only-of-type {\n",
       "        vertical-align: middle;\n",
       "    }\n",
       "\n",
       "    .dataframe tbody tr th {\n",
       "        vertical-align: top;\n",
       "    }\n",
       "\n",
       "    .dataframe thead th {\n",
       "        text-align: right;\n",
       "    }\n",
       "</style>\n",
       "<table border=\"1\" class=\"dataframe\">\n",
       "  <thead>\n",
       "    <tr style=\"text-align: right;\">\n",
       "      <th></th>\n",
       "      <th>ID</th>\n",
       "      <th>Policy Start Date</th>\n",
       "      <th>Policy End Date</th>\n",
       "      <th>Gender</th>\n",
       "      <th>Age</th>\n",
       "      <th>First Transaction Date</th>\n",
       "      <th>No_Pol</th>\n",
       "      <th>Car_Category</th>\n",
       "      <th>Subject_Car_Colour</th>\n",
       "      <th>Subject_Car_Make</th>\n",
       "      <th>LGA_Name</th>\n",
       "      <th>State</th>\n",
       "      <th>ProductName</th>\n",
       "      <th>target</th>\n",
       "    </tr>\n",
       "  </thead>\n",
       "  <tbody>\n",
       "    <tr>\n",
       "      <th>0</th>\n",
       "      <td>ID_0040R73</td>\n",
       "      <td>2010-05-14</td>\n",
       "      <td>2011-05-13</td>\n",
       "      <td>Male</td>\n",
       "      <td>30</td>\n",
       "      <td>2010-05-14</td>\n",
       "      <td>1</td>\n",
       "      <td>Saloon</td>\n",
       "      <td>Black</td>\n",
       "      <td>TOYOTA</td>\n",
       "      <td>NaN</td>\n",
       "      <td>NaN</td>\n",
       "      <td>Car Classic</td>\n",
       "      <td>0</td>\n",
       "    </tr>\n",
       "    <tr>\n",
       "      <th>1</th>\n",
       "      <td>ID_0046BNK</td>\n",
       "      <td>2010-11-29</td>\n",
       "      <td>2011-11-28</td>\n",
       "      <td>Female</td>\n",
       "      <td>79</td>\n",
       "      <td>2010-11-29</td>\n",
       "      <td>1</td>\n",
       "      <td>JEEP</td>\n",
       "      <td>Grey</td>\n",
       "      <td>TOYOTA</td>\n",
       "      <td>NaN</td>\n",
       "      <td>NaN</td>\n",
       "      <td>Car Classic</td>\n",
       "      <td>1</td>\n",
       "    </tr>\n",
       "    <tr>\n",
       "      <th>2</th>\n",
       "      <td>ID_005QMC3</td>\n",
       "      <td>2010-03-21</td>\n",
       "      <td>2011-03-20</td>\n",
       "      <td>Male</td>\n",
       "      <td>43</td>\n",
       "      <td>2010-03-21</td>\n",
       "      <td>1</td>\n",
       "      <td>Saloon</td>\n",
       "      <td>Red</td>\n",
       "      <td>TOYOTA</td>\n",
       "      <td>NaN</td>\n",
       "      <td>NaN</td>\n",
       "      <td>Car Classic</td>\n",
       "      <td>0</td>\n",
       "    </tr>\n",
       "    <tr>\n",
       "      <th>3</th>\n",
       "      <td>ID_0079OHW</td>\n",
       "      <td>2010-08-21</td>\n",
       "      <td>2011-08-20</td>\n",
       "      <td>Male</td>\n",
       "      <td>2</td>\n",
       "      <td>2010-08-21</td>\n",
       "      <td>1</td>\n",
       "      <td>NaN</td>\n",
       "      <td>NaN</td>\n",
       "      <td>NaN</td>\n",
       "      <td>NaN</td>\n",
       "      <td>NaN</td>\n",
       "      <td>CarSafe</td>\n",
       "      <td>0</td>\n",
       "    </tr>\n",
       "    <tr>\n",
       "      <th>4</th>\n",
       "      <td>ID_00BRP63</td>\n",
       "      <td>2010-08-29</td>\n",
       "      <td>2010-12-31</td>\n",
       "      <td>Entity</td>\n",
       "      <td>20</td>\n",
       "      <td>2010-08-29</td>\n",
       "      <td>3</td>\n",
       "      <td>NaN</td>\n",
       "      <td>NaN</td>\n",
       "      <td>NaN</td>\n",
       "      <td>Lagos</td>\n",
       "      <td>Lagos</td>\n",
       "      <td>Muuve</td>\n",
       "      <td>1</td>\n",
       "    </tr>\n",
       "  </tbody>\n",
       "</table>\n",
       "</div>"
      ],
      "text/plain": [
       "           ID Policy Start Date Policy End Date  Gender  Age  \\\n",
       "0  ID_0040R73        2010-05-14      2011-05-13    Male   30   \n",
       "1  ID_0046BNK        2010-11-29      2011-11-28  Female   79   \n",
       "2  ID_005QMC3        2010-03-21      2011-03-20    Male   43   \n",
       "3  ID_0079OHW        2010-08-21      2011-08-20    Male    2   \n",
       "4  ID_00BRP63        2010-08-29      2010-12-31  Entity   20   \n",
       "\n",
       "  First Transaction Date  No_Pol Car_Category Subject_Car_Colour  \\\n",
       "0             2010-05-14       1       Saloon              Black   \n",
       "1             2010-11-29       1         JEEP               Grey   \n",
       "2             2010-03-21       1       Saloon                Red   \n",
       "3             2010-08-21       1          NaN                NaN   \n",
       "4             2010-08-29       3          NaN                NaN   \n",
       "\n",
       "  Subject_Car_Make LGA_Name  State  ProductName  target  \n",
       "0           TOYOTA      NaN    NaN  Car Classic       0  \n",
       "1           TOYOTA      NaN    NaN  Car Classic       1  \n",
       "2           TOYOTA      NaN    NaN  Car Classic       0  \n",
       "3              NaN      NaN    NaN      CarSafe       0  \n",
       "4              NaN    Lagos  Lagos        Muuve       1  "
      ]
     },
     "execution_count": 355,
     "metadata": {},
     "output_type": "execute_result"
    }
   ],
   "source": [
    "train_df.head()"
   ]
  },
  {
   "cell_type": "code",
   "execution_count": 356,
   "metadata": {},
   "outputs": [
    {
     "name": "stdout",
     "output_type": "stream",
     "text": [
      "<class 'pandas.core.frame.DataFrame'>\n",
      "RangeIndex: 12079 entries, 0 to 12078\n",
      "Data columns (total 14 columns):\n",
      " #   Column                  Non-Null Count  Dtype \n",
      "---  ------                  --------------  ----- \n",
      " 0   ID                      12079 non-null  object\n",
      " 1   Policy Start Date       12079 non-null  object\n",
      " 2   Policy End Date         12079 non-null  object\n",
      " 3   Gender                  11720 non-null  object\n",
      " 4   Age                     12079 non-null  int64 \n",
      " 5   First Transaction Date  12079 non-null  object\n",
      " 6   No_Pol                  12079 non-null  int64 \n",
      " 7   Car_Category            8341 non-null   object\n",
      " 8   Subject_Car_Colour      5117 non-null   object\n",
      " 9   Subject_Car_Make        9603 non-null   object\n",
      " 10  LGA_Name                5603 non-null   object\n",
      " 11  State                   5591 non-null   object\n",
      " 12  ProductName             12079 non-null  object\n",
      " 13  target                  12079 non-null  int64 \n",
      "dtypes: int64(3), object(11)\n",
      "memory usage: 1.3+ MB\n"
     ]
    }
   ],
   "source": [
    "train_df.info()"
   ]
  },
  {
   "cell_type": "code",
   "execution_count": 357,
   "metadata": {},
   "outputs": [],
   "source": [
    "# create a copy of the dataframe to work it\n",
    "#train = train_df.copy()\n",
    "#test = test_df.copy()\n",
    "target_df = train_df['target']"
   ]
  },
  {
   "cell_type": "code",
   "execution_count": 358,
   "metadata": {},
   "outputs": [
    {
     "data": {
      "text/plain": [
       "ID                           0\n",
       "Policy Start Date            0\n",
       "Policy End Date              0\n",
       "Gender                     359\n",
       "Age                          0\n",
       "First Transaction Date       0\n",
       "No_Pol                       0\n",
       "Car_Category              3738\n",
       "Subject_Car_Colour        6962\n",
       "Subject_Car_Make          2476\n",
       "LGA_Name                  6476\n",
       "State                     6488\n",
       "ProductName                  0\n",
       "target                       0\n",
       "dtype: int64"
      ]
     },
     "execution_count": 358,
     "metadata": {},
     "output_type": "execute_result"
    }
   ],
   "source": [
    "train_df.isna().sum()"
   ]
  },
  {
   "cell_type": "code",
   "execution_count": 359,
   "metadata": {},
   "outputs": [],
   "source": [
    "# Filtering out the categorical and continous variables to explore and see\n",
    "# what are data looks like \n",
    "\n",
    "# select categorical train variables\n",
    "cat_train_data = train_df.select_dtypes(include=['object'])\n",
    "# Selecting our continous train variable for preprocessing\n",
    "con_train_data = train_df.select_dtypes(exclude=['object'])\n",
    "\n",
    "# create a function to fill nan for categorical columns\n",
    "def fillna(col):\n",
    "    col.fillna(col.value_counts().index[0],inplace=True)\n",
    "    return col"
   ]
  },
  {
   "cell_type": "code",
   "execution_count": 360,
   "metadata": {},
   "outputs": [],
   "source": [
    "# apply function to fill nan to categorical variables\n",
    "cat_train_data = cat_train_data.apply(lambda col:fillna(col))"
   ]
  },
  {
   "cell_type": "code",
   "execution_count": 361,
   "metadata": {},
   "outputs": [],
   "source": [
    "# create function to plot continous data distribution\n",
    "def plot_con_distribution(dataframe):\n",
    "    fig, axes = plt.subplots(1,2, figsize=(14, 6))\n",
    "    sns.histplot(dataframe, x='No_Pol', label ='histogram', multiple='dodge', hue='target',\n",
    "               shrink=.8, binwidth=10, ax=axes[0])\n",
    "    sns.boxplot(x=dataframe['target'], y=dataframe['Age'], ax=axes[1])\n",
    "    axes[0].set_xlim(0, 200)\n",
    "    axes[1].set_yscale('log')\n",
    "    axes[0].set_title('Histogram Distribution by No_Pol', fontsize=14)\n",
    "    axes[1].set_title('Distribution by Age', fontsize=14)\n",
    "    plt.show()   "
   ]
  },
  {
   "cell_type": "code",
   "execution_count": 362,
   "metadata": {},
   "outputs": [
    {
     "data": {
      "image/png": "[encoded data removed]",
      "text/plain": [
       "<Figure size 1008x432 with 2 Axes>"
      ]
     },
     "metadata": {
      "needs_background": "light"
     },
     "output_type": "display_data"
    }
   ],
   "source": [
    "# apply plot_con_distribution function to con_train_data\n",
    "plot_con_distribution(con_train_data)"
   ]
  },
  {
   "cell_type": "markdown",
   "metadata": {},
   "source": [
    "We see the data is skewed with some outliers. We will have to make a decision as whether to remove or keep them based on how well the model is performing"
   ]
  },
  {
   "cell_type": "code",
   "execution_count": 363,
   "metadata": {},
   "outputs": [
    {
     "data": {
      "text/plain": [
       "0    10624\n",
       "1     1455\n",
       "Name: target, dtype: int64"
      ]
     },
     "execution_count": 363,
     "metadata": {},
     "output_type": "execute_result"
    }
   ],
   "source": [
    "con_train_data['target'].value_counts()"
   ]
  },
  {
   "cell_type": "code",
   "execution_count": 364,
   "metadata": {},
   "outputs": [
    {
     "data": {
      "image/png": "[encoded data removed]",
      "text/plain": [
       "<Figure size 1080x576 with 1 Axes>"
      ]
     },
     "metadata": {},
     "output_type": "display_data"
    }
   ],
   "source": [
    "# lets also look at the distribution of the target variable\n",
    "labels = 'Yes', 'No'\n",
    "sizes = [con_train_data.target[con_train_data['target']== 0].count(), con_train_data.target[con_train_data['target']== 1].count()]\n",
    "explode = (0, 0.2)\n",
    "fig1, ax1 = plt.subplots(figsize=(15,8))\n",
    "ax1.pie(sizes, explode=explode, labels=labels, autopct='%1.1f%%', shadow = True, startangle=90)\n",
    "ax1.axis('equal')\n",
    "plt.title('Target Distribution')\n",
    "plt.show()\n"
   ]
  },
  {
   "cell_type": "markdown",
   "metadata": {},
   "source": [
    "The target distribution is severely skewed in thge minority class looking at the above chart"
   ]
  },
  {
   "cell_type": "code",
   "execution_count": 365,
   "metadata": {},
   "outputs": [
    {
     "data": {
      "image/png": "[encoded data removed]",
      "text/plain": [
       "<Figure size 1080x720 with 1 Axes>"
      ]
     },
     "metadata": {
      "needs_background": "light"
     },
     "output_type": "display_data"
    }
   ],
   "source": [
    "# Explore more categorical variables\n",
    "cat_train_data['ProductName'].value_counts().plot(kind='barh',\n",
    "                                                        color=list('rgbkymc'),\n",
    "                                                            alpha=0.7,figsize=(15,10))\n",
    "plt.show()"
   ]
  },
  {
   "cell_type": "markdown",
   "metadata": {},
   "source": [
    "### Feature Engineering"
   ]
  },
  {
   "cell_type": "code",
   "execution_count": 366,
   "metadata": {},
   "outputs": [],
   "source": [
    "# dropping the target to merge train and test data for feature engineering and bulding model\n",
    "#train.drop('target', axis = 1, inplace = True)\n",
    "# Change each column to its appriopriate datatype\n",
    "\n",
    "\n",
    "# Confirm whether the changes have been applied successfully\n",
    "\n",
    "\n",
    "# merge train and test data\n",
    "#frames = [train, test]\n",
    "df = pd.concat((train_df, test_df)).reset_index(drop=True)\n",
    "#df = pd.concat(frames)"
   ]
  },
  {
   "cell_type": "code",
   "execution_count": 367,
   "metadata": {},
   "outputs": [
    {
     "data": {
      "text/html": [
       "<div>\n",
       "<style scoped>\n",
       "    .dataframe tbody tr th:only-of-type {\n",
       "        vertical-align: middle;\n",
       "    }\n",
       "\n",
       "    .dataframe tbody tr th {\n",
       "        vertical-align: top;\n",
       "    }\n",
       "\n",
       "    .dataframe thead th {\n",
       "        text-align: right;\n",
       "    }\n",
       "</style>\n",
       "<table border=\"1\" class=\"dataframe\">\n",
       "  <thead>\n",
       "    <tr style=\"text-align: right;\">\n",
       "      <th></th>\n",
       "      <th>ID</th>\n",
       "      <th>Policy Start Date</th>\n",
       "      <th>Policy End Date</th>\n",
       "      <th>Gender</th>\n",
       "      <th>Age</th>\n",
       "      <th>First Transaction Date</th>\n",
       "      <th>No_Pol</th>\n",
       "      <th>Car_Category</th>\n",
       "      <th>Subject_Car_Colour</th>\n",
       "      <th>Subject_Car_Make</th>\n",
       "      <th>LGA_Name</th>\n",
       "      <th>State</th>\n",
       "      <th>ProductName</th>\n",
       "      <th>target</th>\n",
       "    </tr>\n",
       "  </thead>\n",
       "  <tbody>\n",
       "    <tr>\n",
       "      <th>0</th>\n",
       "      <td>ID_0040R73</td>\n",
       "      <td>2010-05-14</td>\n",
       "      <td>2011-05-13</td>\n",
       "      <td>Male</td>\n",
       "      <td>30</td>\n",
       "      <td>2010-05-14</td>\n",
       "      <td>1</td>\n",
       "      <td>Saloon</td>\n",
       "      <td>Black</td>\n",
       "      <td>TOYOTA</td>\n",
       "      <td>NaN</td>\n",
       "      <td>NaN</td>\n",
       "      <td>Car Classic</td>\n",
       "      <td>0.0</td>\n",
       "    </tr>\n",
       "    <tr>\n",
       "      <th>1</th>\n",
       "      <td>ID_0046BNK</td>\n",
       "      <td>2010-11-29</td>\n",
       "      <td>2011-11-28</td>\n",
       "      <td>Female</td>\n",
       "      <td>79</td>\n",
       "      <td>2010-11-29</td>\n",
       "      <td>1</td>\n",
       "      <td>JEEP</td>\n",
       "      <td>Grey</td>\n",
       "      <td>TOYOTA</td>\n",
       "      <td>NaN</td>\n",
       "      <td>NaN</td>\n",
       "      <td>Car Classic</td>\n",
       "      <td>1.0</td>\n",
       "    </tr>\n",
       "    <tr>\n",
       "      <th>2</th>\n",
       "      <td>ID_005QMC3</td>\n",
       "      <td>2010-03-21</td>\n",
       "      <td>2011-03-20</td>\n",
       "      <td>Male</td>\n",
       "      <td>43</td>\n",
       "      <td>2010-03-21</td>\n",
       "      <td>1</td>\n",
       "      <td>Saloon</td>\n",
       "      <td>Red</td>\n",
       "      <td>TOYOTA</td>\n",
       "      <td>NaN</td>\n",
       "      <td>NaN</td>\n",
       "      <td>Car Classic</td>\n",
       "      <td>0.0</td>\n",
       "    </tr>\n",
       "    <tr>\n",
       "      <th>3</th>\n",
       "      <td>ID_0079OHW</td>\n",
       "      <td>2010-08-21</td>\n",
       "      <td>2011-08-20</td>\n",
       "      <td>Male</td>\n",
       "      <td>2</td>\n",
       "      <td>2010-08-21</td>\n",
       "      <td>1</td>\n",
       "      <td>NaN</td>\n",
       "      <td>NaN</td>\n",
       "      <td>NaN</td>\n",
       "      <td>NaN</td>\n",
       "      <td>NaN</td>\n",
       "      <td>CarSafe</td>\n",
       "      <td>0.0</td>\n",
       "    </tr>\n",
       "    <tr>\n",
       "      <th>4</th>\n",
       "      <td>ID_00BRP63</td>\n",
       "      <td>2010-08-29</td>\n",
       "      <td>2010-12-31</td>\n",
       "      <td>Entity</td>\n",
       "      <td>20</td>\n",
       "      <td>2010-08-29</td>\n",
       "      <td>3</td>\n",
       "      <td>NaN</td>\n",
       "      <td>NaN</td>\n",
       "      <td>NaN</td>\n",
       "      <td>Lagos</td>\n",
       "      <td>Lagos</td>\n",
       "      <td>Muuve</td>\n",
       "      <td>1.0</td>\n",
       "    </tr>\n",
       "  </tbody>\n",
       "</table>\n",
       "</div>"
      ],
      "text/plain": [
       "           ID Policy Start Date Policy End Date  Gender  Age  \\\n",
       "0  ID_0040R73        2010-05-14      2011-05-13    Male   30   \n",
       "1  ID_0046BNK        2010-11-29      2011-11-28  Female   79   \n",
       "2  ID_005QMC3        2010-03-21      2011-03-20    Male   43   \n",
       "3  ID_0079OHW        2010-08-21      2011-08-20    Male    2   \n",
       "4  ID_00BRP63        2010-08-29      2010-12-31  Entity   20   \n",
       "\n",
       "  First Transaction Date  No_Pol Car_Category Subject_Car_Colour  \\\n",
       "0             2010-05-14       1       Saloon              Black   \n",
       "1             2010-11-29       1         JEEP               Grey   \n",
       "2             2010-03-21       1       Saloon                Red   \n",
       "3             2010-08-21       1          NaN                NaN   \n",
       "4             2010-08-29       3          NaN                NaN   \n",
       "\n",
       "  Subject_Car_Make LGA_Name  State  ProductName  target  \n",
       "0           TOYOTA      NaN    NaN  Car Classic     0.0  \n",
       "1           TOYOTA      NaN    NaN  Car Classic     1.0  \n",
       "2           TOYOTA      NaN    NaN  Car Classic     0.0  \n",
       "3              NaN      NaN    NaN      CarSafe     0.0  \n",
       "4              NaN    Lagos  Lagos        Muuve     1.0  "
      ]
     },
     "execution_count": 367,
     "metadata": {},
     "output_type": "execute_result"
    }
   ],
   "source": [
    "df.head()"
   ]
  },
  {
   "cell_type": "code",
   "execution_count": 368,
   "metadata": {},
   "outputs": [
    {
     "name": "stdout",
     "output_type": "stream",
     "text": [
      "<class 'pandas.core.frame.DataFrame'>\n",
      "RangeIndex: 13281 entries, 0 to 13280\n",
      "Data columns (total 14 columns):\n",
      " #   Column                  Non-Null Count  Dtype  \n",
      "---  ------                  --------------  -----  \n",
      " 0   ID                      13281 non-null  object \n",
      " 1   Policy Start Date       13281 non-null  object \n",
      " 2   Policy End Date         13281 non-null  object \n",
      " 3   Gender                  12881 non-null  object \n",
      " 4   Age                     13281 non-null  int64  \n",
      " 5   First Transaction Date  13281 non-null  object \n",
      " 6   No_Pol                  13281 non-null  int64  \n",
      " 7   Car_Category            9171 non-null   object \n",
      " 8   Subject_Car_Colour      5622 non-null   object \n",
      " 9   Subject_Car_Make        10557 non-null  object \n",
      " 10  LGA_Name                6149 non-null   object \n",
      " 11  State                   6137 non-null   object \n",
      " 12  ProductName             13281 non-null  object \n",
      " 13  target                  12079 non-null  float64\n",
      "dtypes: float64(1), int64(2), object(11)\n",
      "memory usage: 1.4+ MB\n"
     ]
    }
   ],
   "source": [
    "df.info()"
   ]
  },
  {
   "cell_type": "code",
   "execution_count": 369,
   "metadata": {},
   "outputs": [
    {
     "name": "stdout",
     "output_type": "stream",
     "text": [
      "<class 'pandas.core.frame.DataFrame'>\n",
      "RangeIndex: 13281 entries, 0 to 13280\n",
      "Data columns (total 14 columns):\n",
      " #   Column                  Non-Null Count  Dtype         \n",
      "---  ------                  --------------  -----         \n",
      " 0   ID                      13281 non-null  object        \n",
      " 1   Policy Start Date       13281 non-null  datetime64[ns]\n",
      " 2   Policy End Date         13281 non-null  datetime64[ns]\n",
      " 3   Gender                  12881 non-null  category      \n",
      " 4   Age                     13281 non-null  int64         \n",
      " 5   First Transaction Date  13281 non-null  datetime64[ns]\n",
      " 6   No_Pol                  13281 non-null  int64         \n",
      " 7   Car_Category            9171 non-null   category      \n",
      " 8   Subject_Car_Colour      5622 non-null   category      \n",
      " 9   Subject_Car_Make        10557 non-null  category      \n",
      " 10  LGA_Name                6149 non-null   category      \n",
      " 11  State                   6137 non-null   category      \n",
      " 12  ProductName             13281 non-null  category      \n",
      " 13  target                  12079 non-null  float64       \n",
      "dtypes: category(7), datetime64[ns](3), float64(1), int64(2), object(1)\n",
      "memory usage: 854.4+ KB\n"
     ]
    }
   ],
   "source": [
    "# set each column to its apppproriate data type\n",
    "date_cols = [col for col in df.columns if 'Date' in col]\n",
    "num_cols = ['Age', 'No_Pol']\n",
    "cat_cols = [col for col in df.columns if col not in date_cols+num_cols+['ID', 'target']]\n",
    "\n",
    "for col in df.columns:\n",
    "  if col in date_cols:\n",
    "    df[col] = pd.to_datetime(df[col])\n",
    "  elif col in cat_cols:\n",
    "    df[col] = df[col].astype('category')\n",
    "    \n",
    "# Confirm whether the changes have been applied successfully\n",
    "df.info()"
   ]
  },
  {
   "cell_type": "code",
   "execution_count": 370,
   "metadata": {},
   "outputs": [],
   "source": [
    "# fill missing values\n",
    "df = df.apply(lambda col:fillna(col))"
   ]
  },
  {
   "cell_type": "code",
   "execution_count": 371,
   "metadata": {},
   "outputs": [],
   "source": [
    "# convert policy start date and end date to datetime\n",
    "#df['Policy Start Date'] = pd.to_datetime(df['Policy Start Date'])\n",
    "#df['Policy End Date'] = pd.to_datetime(df['Policy End Date'])\n",
    "#df['Policy Start Date'].dtype"
   ]
  },
  {
   "cell_type": "markdown",
   "metadata": {},
   "source": [
    "lets also assume that there could be a trend between policy start date and policy end date by considering client's fast response to insurance schemes. \n",
    "We will create new feature called Elasped time - this is to picture the time difference between the start of the policy and end of the policy prior to client's response. \n",
    "We also look to extract other datetime features like year of policy, month of policy and day of policy. One more thing to look at is the First Day of Transaction field which\n",
    "is the duplicate of Policy Start Date, which will be of no use to us."
   ]
  },
  {
   "cell_type": "code",
   "execution_count": 372,
   "metadata": {},
   "outputs": [],
   "source": [
    "# create new column called Elasped time\n",
    "df['Elapsed_Time'] = df['Policy End Date'] - df['Policy Start Date']\n",
    "\n",
    "# Extract month columns for the policy start date and policy end date to try model improvement\n",
    "df['Policy_Start_Month'] = pd.DatetimeIndex(df['Policy Start Date']).month\n",
    "df['Policy_End_Month'] = pd.DatetimeIndex(df['Policy End Date']).month\n",
    "\n",
    "# Extract year columns for the policy start date and policy end date\n",
    "df['Policy_Start_Year'] = pd.DatetimeIndex(df['Policy Start Date']).year\n",
    "df['Policy_End_Year'] = pd.DatetimeIndex(df['Policy End Date']).year\n",
    "\n",
    "# Extract weekday for policy start state date and poicy end date\n",
    "df['Weekday_Start_Policy'] = pd.DatetimeIndex(df['Policy Start Date']).weekday\n",
    "df['Weekday_End_Policy'] = pd.DatetimeIndex(df['Policy End Date']).weekday"
   ]
  },
  {
   "cell_type": "code",
   "execution_count": 373,
   "metadata": {},
   "outputs": [
    {
     "data": {
      "text/plain": [
       "<matplotlib.axes._subplots.AxesSubplot at 0x50e2025ec8>"
      ]
     },
     "execution_count": 373,
     "metadata": {},
     "output_type": "execute_result"
    },
    {
     "data": {
      "image/png": "[encoded data removed]",
      "text/plain": [
       "<Figure size 1080x360 with 1 Axes>"
      ]
     },
     "metadata": {
      "needs_background": "light"
     },
     "output_type": "display_data"
    }
   ],
   "source": [
    "# view distribution of Gender\n",
    "df['Gender'].value_counts().plot(kind='bar', figsize=[15,5])"
   ]
  },
  {
   "cell_type": "code",
   "execution_count": 374,
   "metadata": {},
   "outputs": [
    {
     "data": {
      "text/plain": [
       "Male      8756\n",
       "Female    3679\n",
       "Other      846\n",
       "Name: Gender, dtype: int64"
      ]
     },
     "execution_count": 374,
     "metadata": {},
     "output_type": "execute_result"
    }
   ],
   "source": [
    "# use map function\n",
    "mapper = {'Entity':'Other', 'Joint Gender':'Other', 'NOT STATED':'Other', 'NO GENDER': 'Other', 'SEX':\"Other\"}\n",
    "df.Gender = df.Gender.replace(mapper)\n",
    "\n",
    "# Confirm mappings\n",
    "df.Gender.value_counts()"
   ]
  },
  {
   "cell_type": "code",
   "execution_count": 375,
   "metadata": {},
   "outputs": [
    {
     "data": {
      "text/plain": [
       "<matplotlib.axes._subplots.AxesSubplot at 0x50e1fe1388>"
      ]
     },
     "execution_count": 375,
     "metadata": {},
     "output_type": "execute_result"
    },
    {
     "data": {
      "image/png": "[encoded data removed]",
      "text/plain": [
       "<Figure size 1440x360 with 1 Axes>"
      ]
     },
     "metadata": {
      "needs_background": "light"
     },
     "output_type": "display_data"
    }
   ],
   "source": [
    "# feature enginerring for the continous variables\n",
    "# view distribution of Age variable\n",
    "df['Age'].value_counts().plot(kind='bar', figsize=[20,5])"
   ]
  },
  {
   "cell_type": "code",
   "execution_count": 376,
   "metadata": {},
   "outputs": [],
   "source": [
    "# adding a list of condition\n",
    "conditions = [\n",
    "    (df['Age'] <= 40),\n",
    "    (df['Age'] > 50)\n",
    " & (df['Age'] <= 60),\n",
    "    (df['Age'] > 60)\n",
    " & (df['Age'] <= 100),\n",
    "    (df['Age'] > 100)\n",
    "]\n",
    "\n",
    "# Create a list of values to assign condition\n",
    "values = ['1', '4', '3', '2']\n",
    "\n",
    "# create new datafame with condition\n",
    "df['Age_band'] = np.select(conditions, values)"
   ]
  },
  {
   "cell_type": "code",
   "execution_count": 377,
   "metadata": {},
   "outputs": [
    {
     "data": {
      "text/plain": [
       "<matplotlib.axes._subplots.AxesSubplot at 0x50d5dfea08>"
      ]
     },
     "execution_count": 377,
     "metadata": {},
     "output_type": "execute_result"
    },
    {
     "data": {
      "image/png": "[encoded data removed]",
      "text/plain": [
       "<Figure size 1080x360 with 1 Axes>"
      ]
     },
     "metadata": {
      "needs_background": "light"
     },
     "output_type": "display_data"
    }
   ],
   "source": [
    "# view distribution of No_Pol\n",
    "df['No_Pol'].value_counts().plot(kind='bar', figsize=[15,5])"
   ]
  },
  {
   "cell_type": "code",
   "execution_count": 378,
   "metadata": {},
   "outputs": [],
   "source": [
    "# add a list of condition\n",
    "conditions = [\n",
    "    (df['No_Pol'] == 1),\n",
    "    (df['No_Pol'] == 2),\n",
    "    (df['No_Pol'] == 3),\n",
    "    (df['No_Pol'] == 4)\n",
    "]\n",
    "\n",
    "# create a list of values to asign condition\n",
    "values = ['2','5', '7', '8']\n",
    "\n",
    "# create new dataframe with a new column\n",
    "df['Pols'] = np.select(conditions, values)"
   ]
  },
  {
   "cell_type": "code",
   "execution_count": 379,
   "metadata": {},
   "outputs": [
    {
     "data": {
      "text/html": [
       "<div>\n",
       "<style scoped>\n",
       "    .dataframe tbody tr th:only-of-type {\n",
       "        vertical-align: middle;\n",
       "    }\n",
       "\n",
       "    .dataframe tbody tr th {\n",
       "        vertical-align: top;\n",
       "    }\n",
       "\n",
       "    .dataframe thead th {\n",
       "        text-align: right;\n",
       "    }\n",
       "</style>\n",
       "<table border=\"1\" class=\"dataframe\">\n",
       "  <thead>\n",
       "    <tr style=\"text-align: right;\">\n",
       "      <th></th>\n",
       "      <th>ID</th>\n",
       "      <th>Policy Start Date</th>\n",
       "      <th>Policy End Date</th>\n",
       "      <th>Gender</th>\n",
       "      <th>Age</th>\n",
       "      <th>First Transaction Date</th>\n",
       "      <th>No_Pol</th>\n",
       "      <th>Car_Category</th>\n",
       "      <th>Subject_Car_Colour</th>\n",
       "      <th>Subject_Car_Make</th>\n",
       "      <th>...</th>\n",
       "      <th>target</th>\n",
       "      <th>Elapsed_Time</th>\n",
       "      <th>Policy_Start_Month</th>\n",
       "      <th>Policy_End_Month</th>\n",
       "      <th>Policy_Start_Year</th>\n",
       "      <th>Policy_End_Year</th>\n",
       "      <th>Weekday_Start_Policy</th>\n",
       "      <th>Weekday_End_Policy</th>\n",
       "      <th>Age_band</th>\n",
       "      <th>Pols</th>\n",
       "    </tr>\n",
       "  </thead>\n",
       "  <tbody>\n",
       "    <tr>\n",
       "      <th>0</th>\n",
       "      <td>ID_0040R73</td>\n",
       "      <td>2010-05-14</td>\n",
       "      <td>2011-05-13</td>\n",
       "      <td>Male</td>\n",
       "      <td>30</td>\n",
       "      <td>2010-05-14</td>\n",
       "      <td>1</td>\n",
       "      <td>Saloon</td>\n",
       "      <td>Black</td>\n",
       "      <td>TOYOTA</td>\n",
       "      <td>...</td>\n",
       "      <td>0.0</td>\n",
       "      <td>364 days</td>\n",
       "      <td>5</td>\n",
       "      <td>5</td>\n",
       "      <td>2010</td>\n",
       "      <td>2011</td>\n",
       "      <td>4</td>\n",
       "      <td>4</td>\n",
       "      <td>1</td>\n",
       "      <td>2</td>\n",
       "    </tr>\n",
       "    <tr>\n",
       "      <th>1</th>\n",
       "      <td>ID_0046BNK</td>\n",
       "      <td>2010-11-29</td>\n",
       "      <td>2011-11-28</td>\n",
       "      <td>Female</td>\n",
       "      <td>79</td>\n",
       "      <td>2010-11-29</td>\n",
       "      <td>1</td>\n",
       "      <td>JEEP</td>\n",
       "      <td>Grey</td>\n",
       "      <td>TOYOTA</td>\n",
       "      <td>...</td>\n",
       "      <td>1.0</td>\n",
       "      <td>364 days</td>\n",
       "      <td>11</td>\n",
       "      <td>11</td>\n",
       "      <td>2010</td>\n",
       "      <td>2011</td>\n",
       "      <td>0</td>\n",
       "      <td>0</td>\n",
       "      <td>3</td>\n",
       "      <td>2</td>\n",
       "    </tr>\n",
       "  </tbody>\n",
       "</table>\n",
       "<p>2 rows × 23 columns</p>\n",
       "</div>"
      ],
      "text/plain": [
       "           ID Policy Start Date Policy End Date  Gender  Age  \\\n",
       "0  ID_0040R73        2010-05-14      2011-05-13    Male   30   \n",
       "1  ID_0046BNK        2010-11-29      2011-11-28  Female   79   \n",
       "\n",
       "  First Transaction Date  No_Pol Car_Category Subject_Car_Colour  \\\n",
       "0             2010-05-14       1       Saloon              Black   \n",
       "1             2010-11-29       1         JEEP               Grey   \n",
       "\n",
       "  Subject_Car_Make  ... target Elapsed_Time Policy_Start_Month  \\\n",
       "0           TOYOTA  ...    0.0     364 days                  5   \n",
       "1           TOYOTA  ...    1.0     364 days                 11   \n",
       "\n",
       "   Policy_End_Month Policy_Start_Year  Policy_End_Year  Weekday_Start_Policy  \\\n",
       "0                 5              2010             2011                     4   \n",
       "1                11              2010             2011                     0   \n",
       "\n",
       "   Weekday_End_Policy  Age_band  Pols  \n",
       "0                   4         1     2  \n",
       "1                   0         3     2  \n",
       "\n",
       "[2 rows x 23 columns]"
      ]
     },
     "execution_count": 379,
     "metadata": {},
     "output_type": "execute_result"
    }
   ],
   "source": [
    "df.head(2)"
   ]
  },
  {
   "cell_type": "code",
   "execution_count": null,
   "metadata": {},
   "outputs": [],
   "source": []
  },
  {
   "cell_type": "markdown",
   "metadata": {},
   "source": [
    "### Preparing Data for Modeling"
   ]
  },
  {
   "cell_type": "code",
   "execution_count": 380,
   "metadata": {},
   "outputs": [],
   "source": [
    "from sklearn.preprocessing import LabelEncoder\n",
    "import warnings \n",
    "warnings.filterwarnings('ignore')"
   ]
  },
  {
   "cell_type": "code",
   "execution_count": 381,
   "metadata": {},
   "outputs": [],
   "source": [
    "# drop the irrelevant columns\n",
    "df.drop(columns=['ID', 'Policy Start Date','Age', 'No_Pol','target', 'Policy End Date', 'First Transaction Date'], axis=1, inplace=True)\n",
    "\n",
    "# split dsta for preprocessing\n",
    "train_df = df.iloc[: 12079, : ]\n",
    "test_df = df.iloc[12079:, :]"
   ]
  },
  {
   "cell_type": "code",
   "execution_count": 382,
   "metadata": {},
   "outputs": [
    {
     "data": {
      "text/html": [
       "<div>\n",
       "<style scoped>\n",
       "    .dataframe tbody tr th:only-of-type {\n",
       "        vertical-align: middle;\n",
       "    }\n",
       "\n",
       "    .dataframe tbody tr th {\n",
       "        vertical-align: top;\n",
       "    }\n",
       "\n",
       "    .dataframe thead th {\n",
       "        text-align: right;\n",
       "    }\n",
       "</style>\n",
       "<table border=\"1\" class=\"dataframe\">\n",
       "  <thead>\n",
       "    <tr style=\"text-align: right;\">\n",
       "      <th></th>\n",
       "      <th>Gender</th>\n",
       "      <th>Car_Category</th>\n",
       "      <th>Subject_Car_Colour</th>\n",
       "      <th>Subject_Car_Make</th>\n",
       "      <th>LGA_Name</th>\n",
       "      <th>State</th>\n",
       "      <th>ProductName</th>\n",
       "      <th>Elapsed_Time</th>\n",
       "      <th>Policy_Start_Month</th>\n",
       "      <th>Policy_End_Month</th>\n",
       "      <th>Policy_Start_Year</th>\n",
       "      <th>Policy_End_Year</th>\n",
       "      <th>Weekday_Start_Policy</th>\n",
       "      <th>Weekday_End_Policy</th>\n",
       "      <th>Age_band</th>\n",
       "      <th>Pols</th>\n",
       "    </tr>\n",
       "  </thead>\n",
       "  <tbody>\n",
       "    <tr>\n",
       "      <th>0</th>\n",
       "      <td>Male</td>\n",
       "      <td>Saloon</td>\n",
       "      <td>Black</td>\n",
       "      <td>TOYOTA</td>\n",
       "      <td>Victoria Island</td>\n",
       "      <td>Lagos</td>\n",
       "      <td>Car Classic</td>\n",
       "      <td>364 days</td>\n",
       "      <td>5</td>\n",
       "      <td>5</td>\n",
       "      <td>2010</td>\n",
       "      <td>2011</td>\n",
       "      <td>4</td>\n",
       "      <td>4</td>\n",
       "      <td>1</td>\n",
       "      <td>2</td>\n",
       "    </tr>\n",
       "    <tr>\n",
       "      <th>1</th>\n",
       "      <td>Female</td>\n",
       "      <td>JEEP</td>\n",
       "      <td>Grey</td>\n",
       "      <td>TOYOTA</td>\n",
       "      <td>Victoria Island</td>\n",
       "      <td>Lagos</td>\n",
       "      <td>Car Classic</td>\n",
       "      <td>364 days</td>\n",
       "      <td>11</td>\n",
       "      <td>11</td>\n",
       "      <td>2010</td>\n",
       "      <td>2011</td>\n",
       "      <td>0</td>\n",
       "      <td>0</td>\n",
       "      <td>3</td>\n",
       "      <td>2</td>\n",
       "    </tr>\n",
       "    <tr>\n",
       "      <th>2</th>\n",
       "      <td>Male</td>\n",
       "      <td>Saloon</td>\n",
       "      <td>Red</td>\n",
       "      <td>TOYOTA</td>\n",
       "      <td>Victoria Island</td>\n",
       "      <td>Lagos</td>\n",
       "      <td>Car Classic</td>\n",
       "      <td>364 days</td>\n",
       "      <td>3</td>\n",
       "      <td>3</td>\n",
       "      <td>2010</td>\n",
       "      <td>2011</td>\n",
       "      <td>6</td>\n",
       "      <td>6</td>\n",
       "      <td>0</td>\n",
       "      <td>2</td>\n",
       "    </tr>\n",
       "    <tr>\n",
       "      <th>3</th>\n",
       "      <td>Male</td>\n",
       "      <td>Saloon</td>\n",
       "      <td>Black</td>\n",
       "      <td>TOYOTA</td>\n",
       "      <td>Victoria Island</td>\n",
       "      <td>Lagos</td>\n",
       "      <td>CarSafe</td>\n",
       "      <td>364 days</td>\n",
       "      <td>8</td>\n",
       "      <td>8</td>\n",
       "      <td>2010</td>\n",
       "      <td>2011</td>\n",
       "      <td>5</td>\n",
       "      <td>5</td>\n",
       "      <td>1</td>\n",
       "      <td>2</td>\n",
       "    </tr>\n",
       "    <tr>\n",
       "      <th>4</th>\n",
       "      <td>Other</td>\n",
       "      <td>Saloon</td>\n",
       "      <td>Black</td>\n",
       "      <td>TOYOTA</td>\n",
       "      <td>Lagos</td>\n",
       "      <td>Lagos</td>\n",
       "      <td>Muuve</td>\n",
       "      <td>124 days</td>\n",
       "      <td>8</td>\n",
       "      <td>12</td>\n",
       "      <td>2010</td>\n",
       "      <td>2010</td>\n",
       "      <td>6</td>\n",
       "      <td>4</td>\n",
       "      <td>1</td>\n",
       "      <td>7</td>\n",
       "    </tr>\n",
       "  </tbody>\n",
       "</table>\n",
       "</div>"
      ],
      "text/plain": [
       "   Gender Car_Category Subject_Car_Colour Subject_Car_Make         LGA_Name  \\\n",
       "0    Male       Saloon              Black           TOYOTA  Victoria Island   \n",
       "1  Female         JEEP               Grey           TOYOTA  Victoria Island   \n",
       "2    Male       Saloon                Red           TOYOTA  Victoria Island   \n",
       "3    Male       Saloon              Black           TOYOTA  Victoria Island   \n",
       "4   Other       Saloon              Black           TOYOTA            Lagos   \n",
       "\n",
       "   State  ProductName Elapsed_Time  Policy_Start_Month  Policy_End_Month  \\\n",
       "0  Lagos  Car Classic     364 days                   5                 5   \n",
       "1  Lagos  Car Classic     364 days                  11                11   \n",
       "2  Lagos  Car Classic     364 days                   3                 3   \n",
       "3  Lagos      CarSafe     364 days                   8                 8   \n",
       "4  Lagos        Muuve     124 days                   8                12   \n",
       "\n",
       "   Policy_Start_Year  Policy_End_Year  Weekday_Start_Policy  \\\n",
       "0               2010             2011                     4   \n",
       "1               2010             2011                     0   \n",
       "2               2010             2011                     6   \n",
       "3               2010             2011                     5   \n",
       "4               2010             2010                     6   \n",
       "\n",
       "   Weekday_End_Policy Age_band Pols  \n",
       "0                   4        1    2  \n",
       "1                   0        3    2  \n",
       "2                   6        0    2  \n",
       "3                   5        1    2  \n",
       "4                   4        1    7  "
      ]
     },
     "execution_count": 382,
     "metadata": {},
     "output_type": "execute_result"
    }
   ],
   "source": [
    "train_df.head()"
   ]
  },
  {
   "cell_type": "code",
   "execution_count": 383,
   "metadata": {},
   "outputs": [],
   "source": [
    "# encode categorical train data\n",
    "train_df['Gender'] = LabelEncoder().fit_transform(train_df.Gender)\n",
    "train_df['Car_Category'] = LabelEncoder().fit_transform(train_df.Car_Category)\n",
    "train_df['Subject_Car_Colour'] = LabelEncoder().fit_transform(train_df.Subject_Car_Colour)\n",
    "train_df['Subject_Car_Make'] = LabelEncoder().fit_transform(train_df.Subject_Car_Make)\n",
    "train_df['LGA_Name'] = LabelEncoder().fit_transform(train_df.LGA_Name)\n",
    "train_df['State'] = LabelEncoder().fit_transform(train_df.State)\n",
    "train_df['ProductName'] = LabelEncoder().fit_transform(train_df.ProductName)\n",
    "train_df['Elapsed_Time'] = LabelEncoder().fit_transform(train_df.Elapsed_Time).astype(int)"
   ]
  },
  {
   "cell_type": "code",
   "execution_count": 384,
   "metadata": {},
   "outputs": [],
   "source": [
    "# encode categorical test data\n",
    "test_df['Gender'] = LabelEncoder().fit_transform(test_df.Gender)\n",
    "test_df['Car_Category'] = LabelEncoder().fit_transform(test_df.Car_Category)\n",
    "test_df['Subject_Car_Colour'] = LabelEncoder().fit_transform(test_df.Subject_Car_Colour)\n",
    "test_df['Subject_Car_Make'] = LabelEncoder().fit_transform(test_df.Subject_Car_Make)\n",
    "test_df['LGA_Name'] = LabelEncoder().fit_transform(test_df.LGA_Name)\n",
    "test_df['State'] = LabelEncoder().fit_transform(test_df.State)\n",
    "test_df['ProductName'] = LabelEncoder().fit_transform(test_df.ProductName)\n",
    "test_df['Elapsed_Time'] = LabelEncoder().fit_transform(test_df.Elapsed_Time).astype(int)"
   ]
  },
  {
   "cell_type": "code",
   "execution_count": 385,
   "metadata": {},
   "outputs": [
    {
     "data": {
      "text/plain": [
       "((12079, 16), (1202, 16))"
      ]
     },
     "execution_count": 385,
     "metadata": {},
     "output_type": "execute_result"
    }
   ],
   "source": [
    "train_df.shape, test_df.shape"
   ]
  },
  {
   "cell_type": "code",
   "execution_count": 386,
   "metadata": {},
   "outputs": [],
   "source": [
    "#train_df.drop('target', axis=1, inplace=True)\n",
    "#test_df.drop('target', axis=1, inplace=True)"
   ]
  },
  {
   "cell_type": "code",
   "execution_count": 387,
   "metadata": {},
   "outputs": [
    {
     "data": {
      "text/html": [
       "<div>\n",
       "<style scoped>\n",
       "    .dataframe tbody tr th:only-of-type {\n",
       "        vertical-align: middle;\n",
       "    }\n",
       "\n",
       "    .dataframe tbody tr th {\n",
       "        vertical-align: top;\n",
       "    }\n",
       "\n",
       "    .dataframe thead th {\n",
       "        text-align: right;\n",
       "    }\n",
       "</style>\n",
       "<table border=\"1\" class=\"dataframe\">\n",
       "  <thead>\n",
       "    <tr style=\"text-align: right;\">\n",
       "      <th></th>\n",
       "      <th>Gender</th>\n",
       "      <th>Car_Category</th>\n",
       "      <th>Subject_Car_Colour</th>\n",
       "      <th>Subject_Car_Make</th>\n",
       "      <th>LGA_Name</th>\n",
       "      <th>State</th>\n",
       "      <th>ProductName</th>\n",
       "      <th>Elapsed_Time</th>\n",
       "      <th>Policy_Start_Month</th>\n",
       "      <th>Policy_End_Month</th>\n",
       "      <th>Policy_Start_Year</th>\n",
       "      <th>Policy_End_Year</th>\n",
       "      <th>Weekday_Start_Policy</th>\n",
       "      <th>Weekday_End_Policy</th>\n",
       "      <th>Age_band</th>\n",
       "      <th>Pols</th>\n",
       "    </tr>\n",
       "  </thead>\n",
       "  <tbody>\n",
       "    <tr>\n",
       "      <th>0</th>\n",
       "      <td>1</td>\n",
       "      <td>8</td>\n",
       "      <td>4</td>\n",
       "      <td>67</td>\n",
       "      <td>247</td>\n",
       "      <td>73</td>\n",
       "      <td>1</td>\n",
       "      <td>276</td>\n",
       "      <td>5</td>\n",
       "      <td>5</td>\n",
       "      <td>2010</td>\n",
       "      <td>2011</td>\n",
       "      <td>4</td>\n",
       "      <td>4</td>\n",
       "      <td>1</td>\n",
       "      <td>2</td>\n",
       "    </tr>\n",
       "    <tr>\n",
       "      <th>1</th>\n",
       "      <td>0</td>\n",
       "      <td>2</td>\n",
       "      <td>26</td>\n",
       "      <td>67</td>\n",
       "      <td>247</td>\n",
       "      <td>73</td>\n",
       "      <td>1</td>\n",
       "      <td>276</td>\n",
       "      <td>11</td>\n",
       "      <td>11</td>\n",
       "      <td>2010</td>\n",
       "      <td>2011</td>\n",
       "      <td>0</td>\n",
       "      <td>0</td>\n",
       "      <td>3</td>\n",
       "      <td>2</td>\n",
       "    </tr>\n",
       "    <tr>\n",
       "      <th>2</th>\n",
       "      <td>1</td>\n",
       "      <td>8</td>\n",
       "      <td>32</td>\n",
       "      <td>67</td>\n",
       "      <td>247</td>\n",
       "      <td>73</td>\n",
       "      <td>1</td>\n",
       "      <td>276</td>\n",
       "      <td>3</td>\n",
       "      <td>3</td>\n",
       "      <td>2010</td>\n",
       "      <td>2011</td>\n",
       "      <td>6</td>\n",
       "      <td>6</td>\n",
       "      <td>0</td>\n",
       "      <td>2</td>\n",
       "    </tr>\n",
       "    <tr>\n",
       "      <th>3</th>\n",
       "      <td>1</td>\n",
       "      <td>8</td>\n",
       "      <td>4</td>\n",
       "      <td>67</td>\n",
       "      <td>247</td>\n",
       "      <td>73</td>\n",
       "      <td>5</td>\n",
       "      <td>276</td>\n",
       "      <td>8</td>\n",
       "      <td>8</td>\n",
       "      <td>2010</td>\n",
       "      <td>2011</td>\n",
       "      <td>5</td>\n",
       "      <td>5</td>\n",
       "      <td>1</td>\n",
       "      <td>2</td>\n",
       "    </tr>\n",
       "    <tr>\n",
       "      <th>4</th>\n",
       "      <td>2</td>\n",
       "      <td>8</td>\n",
       "      <td>4</td>\n",
       "      <td>67</td>\n",
       "      <td>157</td>\n",
       "      <td>73</td>\n",
       "      <td>8</td>\n",
       "      <td>57</td>\n",
       "      <td>8</td>\n",
       "      <td>12</td>\n",
       "      <td>2010</td>\n",
       "      <td>2010</td>\n",
       "      <td>6</td>\n",
       "      <td>4</td>\n",
       "      <td>1</td>\n",
       "      <td>7</td>\n",
       "    </tr>\n",
       "  </tbody>\n",
       "</table>\n",
       "</div>"
      ],
      "text/plain": [
       "   Gender  Car_Category  Subject_Car_Colour  Subject_Car_Make  LGA_Name  \\\n",
       "0       1             8                   4                67       247   \n",
       "1       0             2                  26                67       247   \n",
       "2       1             8                  32                67       247   \n",
       "3       1             8                   4                67       247   \n",
       "4       2             8                   4                67       157   \n",
       "\n",
       "   State  ProductName  Elapsed_Time  Policy_Start_Month  Policy_End_Month  \\\n",
       "0     73            1           276                   5                 5   \n",
       "1     73            1           276                  11                11   \n",
       "2     73            1           276                   3                 3   \n",
       "3     73            5           276                   8                 8   \n",
       "4     73            8            57                   8                12   \n",
       "\n",
       "   Policy_Start_Year  Policy_End_Year  Weekday_Start_Policy  \\\n",
       "0               2010             2011                     4   \n",
       "1               2010             2011                     0   \n",
       "2               2010             2011                     6   \n",
       "3               2010             2011                     5   \n",
       "4               2010             2010                     6   \n",
       "\n",
       "   Weekday_End_Policy Age_band Pols  \n",
       "0                   4        1    2  \n",
       "1                   0        3    2  \n",
       "2                   6        0    2  \n",
       "3                   5        1    2  \n",
       "4                   4        1    7  "
      ]
     },
     "execution_count": 387,
     "metadata": {},
     "output_type": "execute_result"
    }
   ],
   "source": [
    "train_df.head(5)"
   ]
  },
  {
   "cell_type": "code",
   "execution_count": 388,
   "metadata": {},
   "outputs": [
    {
     "data": {
      "text/html": [
       "<div>\n",
       "<style scoped>\n",
       "    .dataframe tbody tr th:only-of-type {\n",
       "        vertical-align: middle;\n",
       "    }\n",
       "\n",
       "    .dataframe tbody tr th {\n",
       "        vertical-align: top;\n",
       "    }\n",
       "\n",
       "    .dataframe thead th {\n",
       "        text-align: right;\n",
       "    }\n",
       "</style>\n",
       "<table border=\"1\" class=\"dataframe\">\n",
       "  <thead>\n",
       "    <tr style=\"text-align: right;\">\n",
       "      <th></th>\n",
       "      <th>Gender</th>\n",
       "      <th>Car_Category</th>\n",
       "      <th>Subject_Car_Colour</th>\n",
       "      <th>Subject_Car_Make</th>\n",
       "      <th>LGA_Name</th>\n",
       "      <th>State</th>\n",
       "      <th>ProductName</th>\n",
       "      <th>Elapsed_Time</th>\n",
       "      <th>Policy_Start_Month</th>\n",
       "      <th>Policy_End_Month</th>\n",
       "      <th>Policy_Start_Year</th>\n",
       "      <th>Policy_End_Year</th>\n",
       "      <th>Weekday_Start_Policy</th>\n",
       "      <th>Weekday_End_Policy</th>\n",
       "      <th>Age_band</th>\n",
       "      <th>Pols</th>\n",
       "    </tr>\n",
       "  </thead>\n",
       "  <tbody>\n",
       "    <tr>\n",
       "      <th>12079</th>\n",
       "      <td>0</td>\n",
       "      <td>6</td>\n",
       "      <td>3</td>\n",
       "      <td>9</td>\n",
       "      <td>9</td>\n",
       "      <td>3</td>\n",
       "      <td>1</td>\n",
       "      <td>103</td>\n",
       "      <td>10</td>\n",
       "      <td>10</td>\n",
       "      <td>2010</td>\n",
       "      <td>2011</td>\n",
       "      <td>5</td>\n",
       "      <td>5</td>\n",
       "      <td>0</td>\n",
       "      <td>2</td>\n",
       "    </tr>\n",
       "    <tr>\n",
       "      <th>12080</th>\n",
       "      <td>1</td>\n",
       "      <td>6</td>\n",
       "      <td>3</td>\n",
       "      <td>34</td>\n",
       "      <td>69</td>\n",
       "      <td>7</td>\n",
       "      <td>1</td>\n",
       "      <td>103</td>\n",
       "      <td>10</td>\n",
       "      <td>10</td>\n",
       "      <td>2010</td>\n",
       "      <td>2011</td>\n",
       "      <td>3</td>\n",
       "      <td>3</td>\n",
       "      <td>1</td>\n",
       "      <td>2</td>\n",
       "    </tr>\n",
       "    <tr>\n",
       "      <th>12081</th>\n",
       "      <td>0</td>\n",
       "      <td>6</td>\n",
       "      <td>3</td>\n",
       "      <td>11</td>\n",
       "      <td>112</td>\n",
       "      <td>2</td>\n",
       "      <td>1</td>\n",
       "      <td>103</td>\n",
       "      <td>8</td>\n",
       "      <td>8</td>\n",
       "      <td>2010</td>\n",
       "      <td>2011</td>\n",
       "      <td>6</td>\n",
       "      <td>6</td>\n",
       "      <td>0</td>\n",
       "      <td>5</td>\n",
       "    </tr>\n",
       "    <tr>\n",
       "      <th>12082</th>\n",
       "      <td>0</td>\n",
       "      <td>6</td>\n",
       "      <td>3</td>\n",
       "      <td>34</td>\n",
       "      <td>109</td>\n",
       "      <td>29</td>\n",
       "      <td>4</td>\n",
       "      <td>103</td>\n",
       "      <td>6</td>\n",
       "      <td>6</td>\n",
       "      <td>2010</td>\n",
       "      <td>2011</td>\n",
       "      <td>6</td>\n",
       "      <td>6</td>\n",
       "      <td>4</td>\n",
       "      <td>2</td>\n",
       "    </tr>\n",
       "    <tr>\n",
       "      <th>12083</th>\n",
       "      <td>1</td>\n",
       "      <td>6</td>\n",
       "      <td>12</td>\n",
       "      <td>12</td>\n",
       "      <td>109</td>\n",
       "      <td>29</td>\n",
       "      <td>1</td>\n",
       "      <td>103</td>\n",
       "      <td>7</td>\n",
       "      <td>6</td>\n",
       "      <td>2010</td>\n",
       "      <td>2011</td>\n",
       "      <td>3</td>\n",
       "      <td>3</td>\n",
       "      <td>2</td>\n",
       "      <td>2</td>\n",
       "    </tr>\n",
       "  </tbody>\n",
       "</table>\n",
       "</div>"
      ],
      "text/plain": [
       "       Gender  Car_Category  Subject_Car_Colour  Subject_Car_Make  LGA_Name  \\\n",
       "12079       0             6                   3                 9         9   \n",
       "12080       1             6                   3                34        69   \n",
       "12081       0             6                   3                11       112   \n",
       "12082       0             6                   3                34       109   \n",
       "12083       1             6                  12                12       109   \n",
       "\n",
       "       State  ProductName  Elapsed_Time  Policy_Start_Month  Policy_End_Month  \\\n",
       "12079      3            1           103                  10                10   \n",
       "12080      7            1           103                  10                10   \n",
       "12081      2            1           103                   8                 8   \n",
       "12082     29            4           103                   6                 6   \n",
       "12083     29            1           103                   7                 6   \n",
       "\n",
       "       Policy_Start_Year  Policy_End_Year  Weekday_Start_Policy  \\\n",
       "12079               2010             2011                     5   \n",
       "12080               2010             2011                     3   \n",
       "12081               2010             2011                     6   \n",
       "12082               2010             2011                     6   \n",
       "12083               2010             2011                     3   \n",
       "\n",
       "       Weekday_End_Policy Age_band Pols  \n",
       "12079                   5        0    2  \n",
       "12080                   3        1    2  \n",
       "12081                   6        0    5  \n",
       "12082                   6        4    2  \n",
       "12083                   3        2    2  "
      ]
     },
     "execution_count": 388,
     "metadata": {},
     "output_type": "execute_result"
    }
   ],
   "source": [
    "test_df.head(5)"
   ]
  },
  {
   "cell_type": "code",
   "execution_count": 389,
   "metadata": {},
   "outputs": [
    {
     "data": {
      "text/plain": [
       "0    0\n",
       "1    1\n",
       "2    0\n",
       "3    0\n",
       "4    1\n",
       "Name: target, dtype: int64"
      ]
     },
     "execution_count": 389,
     "metadata": {},
     "output_type": "execute_result"
    }
   ],
   "source": [
    "target_df.head()"
   ]
  },
  {
   "cell_type": "markdown",
   "metadata": {},
   "source": [
    "##### Normalize the dataset"
   ]
  },
  {
   "cell_type": "code",
   "execution_count": 390,
   "metadata": {},
   "outputs": [],
   "source": [
    "from sklearn.preprocessing import StandardScaler\n",
    "sc = StandardScaler()\n",
    "\n",
    "# fit scaler on our train and test set\n",
    "X_train_sc = sc.fit_transform(train_df) \n",
    "X_test_sc = sc.transform(test_df)"
   ]
  },
  {
   "cell_type": "markdown",
   "metadata": {},
   "source": [
    "#### Model Building"
   ]
  },
  {
   "cell_type": "code",
   "execution_count": 391,
   "metadata": {},
   "outputs": [],
   "source": [
    "from sklearn.model_selection import cross_val_score\n",
    "from sklearn.model_selection import RepeatedStratifiedKFold\n",
    "from sklearn.ensemble import StackingClassifier\n",
    "\n",
    "from sklearn.linear_model import LogisticRegression\n",
    "from sklearn.ensemble import RandomForestClassifier\n",
    "from sklearn.neighbors import KNeighborsClassifier\n",
    "from sklearn.tree import DecisionTreeClassifier\n",
    "from sklearn.svm import LinearSVC\n",
    "import xgboost as xgb\n",
    "\n",
    "from imblearn.over_sampling import RandomOverSampler\n",
    "from imblearn.under_sampling import RandomUnderSampler\n",
    "from imblearn.pipeline import Pipeline"
   ]
  },
  {
   "cell_type": "code",
   "execution_count": 392,
   "metadata": {},
   "outputs": [],
   "source": [
    "# let define our models\n",
    "level10 = list()\n",
    "level10.append(('lr', LogisticRegression()))\n",
    "level10.append(('rf',  RandomForestClassifier()))\n",
    "level10.append(('knn',  KNeighborsClassifier()))\n",
    "level10.append(('svm', LinearSVC()))\n",
    "level10.append(('xgb', xgb.XGBClassifier()))\n",
    "level10.append(('dt',  DecisionTreeClassifier()))\n",
    "# define meta learner model\n",
    "level1 = LogisticRegression()\n",
    "#cv = RepeatedStratifiedKFold(n_splits=10, n_repeats=3, random_state=1)\n",
    "# define stacking ensamble \n",
    "model = StackingClassifier(estimators=level10, final_estimator=level1)"
   ]
  },
  {
   "cell_type": "markdown",
   "metadata": {},
   "source": [
    "Recall our target distribution is heavily skewed, so we we look for a way to reduce bias by applying random sampling. In this case we will be combining both undersampling and oversampling to see if we can achieve an interesting result, by oversampling the minority class to improve bias towards data points, whilst also applying a modest amount of undersampling to the majority class."
   ]
  },
  {
   "cell_type": "code",
   "execution_count": 393,
   "metadata": {},
   "outputs": [
    {
     "data": {
      "image/png": "[encoded data removed]",
      "text/plain": [
       "<Figure size 648x360 with 1 Axes>"
      ]
     },
     "metadata": {
      "needs_background": "light"
     },
     "output_type": "display_data"
    }
   ],
   "source": [
    "# apply over sample to train data\n",
    "over = RandomOverSampler()\n",
    "X_train_sc, target_df = over.fit_resample(X_train_sc, target_df)\n",
    "\n",
    "fig, ax = plt.subplots(figsize=(9, 5))\n",
    "sns.countplot(target_df)\n",
    "\n",
    "plt.tight_layout()\n",
    "plt.show()"
   ]
  },
  {
   "cell_type": "code",
   "execution_count": 394,
   "metadata": {},
   "outputs": [
    {
     "data": {
      "image/png": "[encoded data removed]",
      "text/plain": [
       "<Figure size 648x360 with 1 Axes>"
      ]
     },
     "metadata": {
      "needs_background": "light"
     },
     "output_type": "display_data"
    }
   ],
   "source": [
    "# apply under sample to test data\n",
    "under = RandomUnderSampler(sampling_strategy=0.5)\n",
    "\n",
    "X_train_sc, target_df = under.fit_resample(X_train_sc, target_df)\n",
    "\n",
    "fig, ax = plt.subplots(figsize=(9, 5))\n",
    "sns.countplot(target_df)\n",
    "\n",
    "plt.tight_layout()\n",
    "plt.show()"
   ]
  },
  {
   "cell_type": "code",
   "execution_count": 396,
   "metadata": {},
   "outputs": [],
   "source": [
    "# define pipeline steps\n",
    "\n",
    "over = RandomOverSampler()\n",
    "under = RandomUnderSampler()\n",
    "steps = [('o', over), ('u', under), ('m', model)]\n",
    "pipeline = Pipeline(steps=steps)"
   ]
  },
  {
   "cell_type": "code",
   "execution_count": 397,
   "metadata": {},
   "outputs": [
    {
     "data": {
      "text/plain": [
       "Pipeline(steps=[('o', RandomOverSampler()), ('u', RandomUnderSampler()),\n",
       "                ('m',\n",
       "                 StackingClassifier(estimators=[('lr', LogisticRegression()),\n",
       "                                                ('rf',\n",
       "                                                 RandomForestClassifier()),\n",
       "                                                ('knn', KNeighborsClassifier()),\n",
       "                                                ('svm', LinearSVC()),\n",
       "                                                ('xgb', XGBClassifier()),\n",
       "                                                ('dt',\n",
       "                                                 DecisionTreeClassifier())],\n",
       "                                    final_estimator=LogisticRegression()))])"
      ]
     },
     "execution_count": 397,
     "metadata": {},
     "output_type": "execute_result"
    }
   ],
   "source": [
    "# fit pipeline model\n",
    "pipeline.fit(X_train_sc, target_df)"
   ]
  },
  {
   "cell_type": "code",
   "execution_count": 398,
   "metadata": {},
   "outputs": [],
   "source": [
    "predictions = pipeline.predict(X_test_sc)"
   ]
  },
  {
   "cell_type": "markdown",
   "metadata": {},
   "source": [
    "##### Load submission file"
   ]
  },
  {
   "cell_type": "code",
   "execution_count": 401,
   "metadata": {},
   "outputs": [],
   "source": [
    "# create submission file\n",
    "sub_file = submission_df.copy()\n",
    "sub_file.target = predictions\n",
    "\n",
    "# check distribution of prediction\n",
    "#sns.countplot(sub_file.predictions)"
   ]
  },
  {
   "cell_type": "code",
   "execution_count": 402,
   "metadata": {},
   "outputs": [],
   "source": [
    "sub_file.to_csv('Model1.csv', index = False)"
   ]
  },
  {
   "cell_type": "code",
   "execution_count": 75,
   "metadata": {},
   "outputs": [],
   "source": [
    "# create new submission file dataframe to hold our predicted values\n",
    "submissionFile= pd.DataFrame({'ID':test_df['ID']})\n",
    "submissionFile['target'] = y_pred"
   ]
  },
  {
   "cell_type": "code",
   "execution_count": 76,
   "metadata": {},
   "outputs": [],
   "source": [
    "# save submission file to csv\n",
    "submissionFile.to_csv('my_model2.csv', index=False)"
   ]
  },
  {
   "cell_type": "code",
   "execution_count": null,
   "metadata": {},
   "outputs": [],
   "source": []
  }
 ],
 "metadata": {
  "kernelspec": {
   "display_name": "Python 3",
   "language": "python",
   "name": "python3"
  },
  "language_info": {
   "codemirror_mode": {
    "name": "ipython",
    "version": 3
   },
   "file_extension": ".py",
   "mimetype": "text/x-python",
   "name": "python",
   "nbconvert_exporter": "python",
   "pygments_lexer": "ipython3",
   "version": "3.7.6"
  }
 },
 "nbformat": 4,
 "nbformat_minor": 2
}
